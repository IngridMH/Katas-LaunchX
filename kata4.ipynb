{
 "cells": [
  {
   "cell_type": "markdown",
   "metadata": {},
   "source": [
    "# Kata del módulo 4\n",
    "## Transformar cadenas"
   ]
  },
  {
   "cell_type": "code",
   "execution_count": 30,
   "metadata": {},
   "outputs": [
    {
     "name": "stdout",
     "output_type": "stream",
     "text": [
      "On average, the Moon moves 4cm away from the Earth every year\n",
      "The highest daylight temperature of the Moon is 127 Celsius.\n"
     ]
    }
   ],
   "source": [
    "text = \"\"\"Interesting facts about the Moon. The Moon is Earth's only satellite. There are several interesting facts about the Moon and how it affects life here on Earth. \n",
    "On average, the Moon moves 4cm away from the Earth every year. This yearly drift is not significant enough to cause immediate effects on Earth. The highest daylight temperature of the Moon is 127 C.\"\"\"\n",
    "\n",
    "text_aux = text.replace('\\n', '')\n",
    "words = ['average', 'temperature', 'distant']\n",
    "\n",
    "for item in text_aux.split('. '):\n",
    "    for word in words:\n",
    "        if word in item.lower():\n",
    "            print(item.replace('C', 'Celsius'))"
   ]
  },
  {
   "cell_type": "markdown",
   "metadata": {},
   "source": [
    "## Formateando Cadenas"
   ]
  },
  {
   "cell_type": "code",
   "execution_count": 57,
   "metadata": {},
   "outputs": [],
   "source": [
    "# Datos\n",
    "name = \"Moon\"\n",
    "gravity = 0.00162 # in kms\n",
    "planet = \"Earth\""
   ]
  },
  {
   "cell_type": "code",
   "execution_count": 58,
   "metadata": {},
   "outputs": [],
   "source": [
    "title = 'Gravity facts about {0}\\n'\n",
    "\n",
    "text = \"\"\"-------------------------------\n",
    "Planet Name: {2}\n",
    "Gravity on {0}: {1} m/s2\n",
    "\"\"\"\n",
    "template = title.title() + text"
   ]
  },
  {
   "cell_type": "code",
   "execution_count": 59,
   "metadata": {},
   "outputs": [
    {
     "name": "stdout",
     "output_type": "stream",
     "text": [
      "Gravity Facts About Moon\n",
      "-------------------------------\n",
      "Planet Name: Earth\n",
      "Gravity on Moon: 1.62 m/s2\n",
      "\n"
     ]
    }
   ],
   "source": [
    "print(template.format(name, round(gravity*1000,2), planet))"
   ]
  },
  {
   "cell_type": "code",
   "execution_count": 60,
   "metadata": {},
   "outputs": [
    {
     "name": "stdout",
     "output_type": "stream",
     "text": [
      "Gravity Facts About Ganymede\n",
      "-------------------------------\n",
      "Planet Name: Mars\n",
      "Gravity on Ganymede: 1.43 m/s2\n",
      "\n"
     ]
    }
   ],
   "source": [
    "# Datos muestra\n",
    "name = 'Ganymede'\n",
    "gravity = 0.00143 # in kms\n",
    "planet = 'Mars'\n",
    "\n",
    "print(template.format(name, round(gravity*1000,2), planet))"
   ]
  }
 ],
 "metadata": {
  "interpreter": {
   "hash": "e39aeb064a32031e48df20a0702a449d9e05e49325f1338e0c01948fbb5635db"
  },
  "kernelspec": {
   "display_name": "Python 3.9.5 64-bit",
   "language": "python",
   "name": "python3"
  },
  "language_info": {
   "codemirror_mode": {
    "name": "ipython",
    "version": 3
   },
   "file_extension": ".py",
   "mimetype": "text/x-python",
   "name": "python",
   "nbconvert_exporter": "python",
   "pygments_lexer": "ipython3",
   "version": "3.9.5"
  },
  "orig_nbformat": 4
 },
 "nbformat": 4,
 "nbformat_minor": 2
}
