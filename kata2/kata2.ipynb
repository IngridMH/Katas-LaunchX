{
 "cells": [
  {
   "cell_type": "markdown",
   "metadata": {},
   "source": [
    "# Kata del módulo 2\n",
    "## Crear un paquete\n",
    "### Crear un entorno virtual"
   ]
  },
  {
   "cell_type": "markdown",
   "metadata": {},
   "source": [
    "![Crear un paquete](https://raw.githubusercontent.com/IngridMH/Katas-LaunchX/main/kata2/images/1.jpg)"
   ]
  },
  {
   "cell_type": "markdown",
   "metadata": {},
   "source": [
    "### Instalar una biblioteca"
   ]
  },
  {
   "cell_type": "markdown",
   "metadata": {},
   "source": [
    "![Instalar una biblioteca](https://raw.githubusercontent.com/IngridMH/Katas-LaunchX/main/kata2/images/2.jpg)"
   ]
  },
  {
   "cell_type": "markdown",
   "metadata": {},
   "source": [
    "### Desactivar un entorno virtual"
   ]
  },
  {
   "cell_type": "markdown",
   "metadata": {},
   "source": [
    "![Desactivar un entorno virtual](https://raw.githubusercontent.com/IngridMH/Katas-LaunchX/main/kata2/images/3.jpg)"
   ]
  }
 ],
 "metadata": {
  "interpreter": {
   "hash": "c3f7be72bb0ab368c092d44f9be1601c1fa3ff7ff9d4d8b548e5d39dc077600b"
  },
  "kernelspec": {
   "display_name": "Python 3.9.10 64-bit (windows store)",
   "language": "python",
   "name": "python3"
  },
  "language_info": {
   "name": "python",
   "version": "3.9.10"
  },
  "orig_nbformat": 4
 },
 "nbformat": 4,
 "nbformat_minor": 2
}
