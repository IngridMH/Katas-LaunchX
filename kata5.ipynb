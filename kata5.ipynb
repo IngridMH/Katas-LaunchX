{
 "cells": [
  {
   "cell_type": "markdown",
   "metadata": {},
   "source": [
    "# Kata del módulo 5\n",
    "## Utilizar operadores aritméticos"
   ]
  },
  {
   "cell_type": "code",
   "execution_count": 1,
   "metadata": {},
   "outputs": [],
   "source": [
    "# Distancias de los planetas al sol en km\n",
    "distTierra  = 149597870\n",
    "distJupiter = 778547200"
   ]
  },
  {
   "cell_type": "code",
   "execution_count": 7,
   "metadata": {},
   "outputs": [
    {
     "name": "stdout",
     "output_type": "stream",
     "text": [
      "Distancia entre Júpiter y la Tierra:\n",
      "628949330 Km\n",
      "390577533.93 Millas\n"
     ]
    }
   ],
   "source": [
    "distKm = distJupiter - distTierra\n",
    "distMi = distKm * 0.621\n",
    "\n",
    "print(f\"Distancia entre Júpiter y la Tierra:\\n{distKm} Km\\n{distMi} Millas\")"
   ]
  },
  {
   "cell_type": "markdown",
   "metadata": {},
   "source": [
    "## Convierte cadenas en números y usa valores absolutos"
   ]
  },
  {
   "cell_type": "code",
   "execution_count": 11,
   "metadata": {},
   "outputs": [],
   "source": [
    "# Obtener la distancia al sol de dos planetas\n",
    "nombPlaneta1 = input(\"¿Cúal es el nombre del primer planeta?: \")\n",
    "distPlaneta1 = int(input(\"¿Cúal es la distancia al sol del primer planeta?: \"))\n",
    "\n",
    "nombPlaneta2 = input(\"¿Cúal es el nombre del segundo planeta?: \")\n",
    "distPlaneta2 = int(input(\"¿Cúal es la distancia al sol del segundo planeta?: \"))"
   ]
  },
  {
   "cell_type": "code",
   "execution_count": 12,
   "metadata": {},
   "outputs": [
    {
     "name": "stdout",
     "output_type": "stream",
     "text": [
      "Distancia entre Mercurio y Neptuno:\n",
      "4437200000 Km\n",
      "2755501200.0 Millas\n"
     ]
    }
   ],
   "source": [
    "distKm = abs(distPlaneta1 - distPlaneta2)\n",
    "distMi = distKm * 0.621\n",
    "\n",
    "print(f\"Distancia entre {nombPlaneta1} y {nombPlaneta2}:\\n{distKm} Km\\n{distMi} Millas\")"
   ]
  }
 ],
 "metadata": {
  "interpreter": {
   "hash": "e39aeb064a32031e48df20a0702a449d9e05e49325f1338e0c01948fbb5635db"
  },
  "kernelspec": {
   "display_name": "Python 3.9.5 64-bit",
   "language": "python",
   "name": "python3"
  },
  "language_info": {
   "codemirror_mode": {
    "name": "ipython",
    "version": 3
   },
   "file_extension": ".py",
   "mimetype": "text/x-python",
   "name": "python",
   "nbconvert_exporter": "python",
   "pygments_lexer": "ipython3",
   "version": "3.9.5"
  },
  "orig_nbformat": 4
 },
 "nbformat": 4,
 "nbformat_minor": 2
}
