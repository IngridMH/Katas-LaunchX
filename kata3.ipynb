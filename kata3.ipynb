{
 "cells": [
  {
   "cell_type": "markdown",
   "metadata": {},
   "source": [
    "# Kata del módulo 3\n",
    "## Mensajes de advertencia\n",
    "### Escribir declaraciones if, else, y elif\n",
    "\n",
    "Un asteroide se acerca, y viaja a una velocidad de 49 km/s."
   ]
  },
  {
   "cell_type": "code",
   "execution_count": 1,
   "metadata": {},
   "outputs": [
    {
     "name": "stdout",
     "output_type": "stream",
     "text": [
      "¡Peligro! El asteroide se acerca a la tierra demasiado rápido.\n"
     ]
    }
   ],
   "source": [
    "velAsteroide = 49 # Velocidad del asteroide en km/s\n",
    "if velAsteroide > 25:\n",
    "    print(\"¡Peligro! El asteroide se acerca a la tierra demasiado rápido.\")\n",
    "else:\n",
    "    print(\"¡No hay peligro! El asteroide no se acerca a una velocidad considerable.\")"
   ]
  },
  {
   "cell_type": "markdown",
   "metadata": {},
   "source": [
    "¡Hay uno que se dirige a la tierra ahora a una velocidad de 19 km/s!"
   ]
  },
  {
   "cell_type": "code",
   "execution_count": 2,
   "metadata": {},
   "outputs": [
    {
     "name": "stdout",
     "output_type": "stream",
     "text": [
      "No será posible ver al asteroide en el cielo.\n"
     ]
    }
   ],
   "source": [
    "velAsteroide = 19 # Velocidad del asteroide en km/s\n",
    "if velAsteroide >= 20:\n",
    "    print(\"¡Puede verse un asteroide en el cielo!\")\n",
    "else:\n",
    "    print(\"No será posible ver al asteroide en el cielo.\")"
   ]
  },
  {
   "cell_type": "markdown",
   "metadata": {},
   "source": [
    "### Ejercicio: Uso de operadores and y or\n",
    "Determinar si un asteroide es un peligro para la tierra"
   ]
  },
  {
   "cell_type": "code",
   "execution_count": 5,
   "metadata": {},
   "outputs": [
    {
     "name": "stdout",
     "output_type": "stream",
     "text": [
      "¡Puede verse un asteroide en el cielo!\n"
     ]
    }
   ],
   "source": [
    "dimAsteroide = 15 # Dimensión del asteroide en metros\n",
    "velAsteroide = 20 # Velocidad del asteroide en km/s\n",
    "\n",
    "if dimAsteroide >= 25 or velAsteroide > 25:\n",
    "    print(\"¡Peligro! El asteroide se acerca y podría causar mucho daño.\")\n",
    "elif velAsteroide >= 20:\n",
    "    print(\"¡Puede verse un asteroide en el cielo!\")\n",
    "else:\n",
    "    print(\"No hay peligro en el cielo.\")\n"
   ]
  }
 ],
 "metadata": {
  "interpreter": {
   "hash": "e39aeb064a32031e48df20a0702a449d9e05e49325f1338e0c01948fbb5635db"
  },
  "kernelspec": {
   "display_name": "Python 3.9.5 64-bit",
   "language": "python",
   "name": "python3"
  },
  "language_info": {
   "codemirror_mode": {
    "name": "ipython",
    "version": 3
   },
   "file_extension": ".py",
   "mimetype": "text/x-python",
   "name": "python",
   "nbconvert_exporter": "python",
   "pygments_lexer": "ipython3",
   "version": "3.9.5"
  },
  "orig_nbformat": 4
 },
 "nbformat": 4,
 "nbformat_minor": 2
}
