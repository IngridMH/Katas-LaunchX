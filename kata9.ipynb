{
 "cells": [
  {
   "cell_type": "markdown",
   "metadata": {},
   "source": [
    "# Kata del módulo 9\n",
    "## Uso de funciones en Python\n",
    "### Trabajar con argumentos en funciones"
   ]
  },
  {
   "cell_type": "code",
   "execution_count": 12,
   "metadata": {},
   "outputs": [],
   "source": [
    "# Función para leer 3 tanques de combustible y muestre el promedio\n",
    "def infCombustible(tanque1, tanque2, tanque3):\n",
    "    prom = (tanque1 + tanque2 + tanque3)/3\n",
    "    return f\"\"\"Combustible del tanque 1: {tanque1}%\n",
    "Combustible del tanque 2: {tanque2}%\n",
    "Combustible del tanque 3: {tanque3}%\n",
    "Promedio del combustible: {round(prom,2)}%\"\"\""
   ]
  },
  {
   "cell_type": "code",
   "execution_count": 13,
   "metadata": {},
   "outputs": [
    {
     "name": "stdout",
     "output_type": "stream",
     "text": [
      "Combustible del tanque 1: 24%\n",
      "Combustible del tanque 2: 50%\n",
      "Combustible del tanque 3: 87%\n",
      "Promedio del combustible: 53.67%\n"
     ]
    }
   ],
   "source": [
    "# Llamamos a la función que genera el reporte\n",
    "print(infCombustible(24,50,87))"
   ]
  },
  {
   "cell_type": "code",
   "execution_count": 14,
   "metadata": {},
   "outputs": [],
   "source": [
    "# Función promedio \n",
    "def promedio(tanque1, tanque2, tanque3):\n",
    "    return round((tanque1 + tanque2 + tanque3)/3,2)"
   ]
  },
  {
   "cell_type": "code",
   "execution_count": 17,
   "metadata": {},
   "outputs": [],
   "source": [
    "# Actualiza la función\n",
    "def infCombustible(tanque1, tanque2, tanque3):\n",
    "    return f\"\"\"Combustible del tanque 1: {tanque1}%\n",
    "Combustible del tanque 2: {tanque2}%\n",
    "Combustible del tanque 3: {tanque3}%\n",
    "Promedio del combustible: {promedio(tanque1, tanque2, tanque3)}%\"\"\""
   ]
  },
  {
   "cell_type": "code",
   "execution_count": 19,
   "metadata": {},
   "outputs": [
    {
     "name": "stdout",
     "output_type": "stream",
     "text": [
      "Combustible del tanque 1: 17%\n",
      "Combustible del tanque 2: 99%\n",
      "Combustible del tanque 3: 38%\n",
      "Promedio del combustible: 51.33%\n"
     ]
    }
   ],
   "source": [
    "# Llamamos nuevamente a la función que genera el reporte\n",
    "print(infCombustible(17,99,38))"
   ]
  },
  {
   "cell_type": "markdown",
   "metadata": {},
   "source": [
    "## Trabajo con argumentos de palabra clave\n",
    "### Trabajar con argumentos de palabras clave en funciones"
   ]
  },
  {
   "cell_type": "code",
   "execution_count": 56,
   "metadata": {},
   "outputs": [],
   "source": [
    "# Función con un informe preciso de la misión. Considera hora de prelanzamiento, tiempo de vuelo, destino, tanque externo y tanque interno\n",
    "def informe(horaPrelanzamiento, tiempoVuelo, destino, tanqueExterno, tanqueInterno):\n",
    "    return f\"\"\"Misión a {destino}:\n",
    "------------------------------------\n",
    "Hora de prelanzamiento: {horaPrelanzamiento} mins\n",
    "Tiempo de vuelo: {tiempoVuelo} mins\n",
    "Tiempo total de viaje: {horaPrelanzamiento + tiempoVuelo} mins\n",
    "\n",
    "Combustible del tanque externo: {tanqueExterno}%\n",
    "Combustible del tanque interno: {tanqueInterno}%\n",
    "Combustible promedio total: {(tanqueExterno + tanqueInterno)/2}%\"\"\""
   ]
  },
  {
   "cell_type": "code",
   "execution_count": 57,
   "metadata": {},
   "outputs": [
    {
     "name": "stdout",
     "output_type": "stream",
     "text": [
      "Misión a Marte:\n",
      "------------------------------------\n",
      "Hora de prelanzamiento: 23 mins\n",
      "Tiempo de vuelo: 75 mins\n",
      "Tiempo total de viaje: 98 mins\n",
      "\n",
      "Combustible del tanque externo: 85%\n",
      "Combustible del tanque interno: 92%\n",
      "Combustible promedio total: 88.5%\n"
     ]
    }
   ],
   "source": [
    "print(informe(23,75,'Marte',85,92))"
   ]
  },
  {
   "cell_type": "code",
   "execution_count": 60,
   "metadata": {},
   "outputs": [],
   "source": [
    "# Escribe tu nueva función de reporte considerando lo anterior\n",
    "def informe(destino, *minutos, **reservasComb):\n",
    "    promCombustible = sum(reservasComb.values())/len(reservasComb)\n",
    "    return f\"\"\"Misión a {destino}:\n",
    "------------------------------------\n",
    "Tiempo total de vuelo: {sum(minutos)} mins\n",
    "Combustible promedio total: {round(promCombustible,2)}%\"\"\""
   ]
  },
  {
   "cell_type": "code",
   "execution_count": 61,
   "metadata": {},
   "outputs": [
    {
     "name": "stdout",
     "output_type": "stream",
     "text": [
      "Misión a Luna:\n",
      "------------------------------------\n",
      "Tiempo total de vuelo: 123 mins\n",
      "Combustible promedio total: 63.33%\n"
     ]
    }
   ],
   "source": [
    "print(informe('Luna', 15, 45, 58, 5, interno=70, externo=32, principal=88))"
   ]
  },
  {
   "cell_type": "code",
   "execution_count": 65,
   "metadata": {},
   "outputs": [],
   "source": [
    "# Escribe tu nueva función\n",
    "def informe(destino, *minutos, **reservasComb):\n",
    "    promCombustible = sum(reservasComb.values())/len(reservasComb)\n",
    "    info = f\"\"\"Misión a {destino}:\n",
    "------------------------------------\n",
    "Tiempo total de vuelo: {sum(minutos)} mins\"\"\"\n",
    "\n",
    "    for nombre, porcentaje in reservasComb.items():\n",
    "        info += f'\\nCombustible del tanque {nombre}: {porcentaje}%'\n",
    "\n",
    "    return info + f'\\nCombustible promedio total: {round(promCombustible,2)}%'"
   ]
  },
  {
   "cell_type": "code",
   "execution_count": 66,
   "metadata": {},
   "outputs": [
    {
     "name": "stdout",
     "output_type": "stream",
     "text": [
      "Misión a Venus:\n",
      "------------------------------------\n",
      "Tiempo total de vuelo: 233 mins\n",
      "Combustible del tanque interno: 89%\n",
      "Combustible del tanque externo: 64%\n",
      "Combustible del tanque principal: 43%\n",
      "Combustible promedio total: 65.33%\n"
     ]
    }
   ],
   "source": [
    "print(informe('Venus', 120, 65, 36, 12, interno=89, externo=64, principal=43))"
   ]
  }
 ],
 "metadata": {
  "interpreter": {
   "hash": "c3f7be72bb0ab368c092d44f9be1601c1fa3ff7ff9d4d8b548e5d39dc077600b"
  },
  "kernelspec": {
   "display_name": "Python 3.9.10 64-bit (windows store)",
   "language": "python",
   "name": "python3"
  },
  "language_info": {
   "codemirror_mode": {
    "name": "ipython",
    "version": 3
   },
   "file_extension": ".py",
   "mimetype": "text/x-python",
   "name": "python",
   "nbconvert_exporter": "python",
   "pygments_lexer": "ipython3",
   "version": "3.9.10"
  },
  "orig_nbformat": 4
 },
 "nbformat": 4,
 "nbformat_minor": 2
}
